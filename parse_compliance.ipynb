{
 "cells": [
  {
   "cell_type": "code",
   "execution_count": 1,
   "metadata": {},
   "outputs": [],
   "source": [
    "import PyPDF2"
   ]
  },
  {
   "cell_type": "code",
   "execution_count": 5,
   "metadata": {},
   "outputs": [],
   "source": [
    "FILE_LOCATION = '/Users/kzabashta/Downloads/Personal Trading Exempt List.pdf'\n",
    "pdfFileObj = open(FILE_LOCATION, 'rb')\n",
    "pdfReader = PyPDF2.PdfFileReader(pdfFileObj)"
   ]
  },
  {
   "cell_type": "code",
   "execution_count": 6,
   "metadata": {},
   "outputs": [],
   "source": [
    "pageObj = pdfReader.getPage(0)"
   ]
  },
  {
   "cell_type": "code",
   "execution_count": 7,
   "metadata": {},
   "outputs": [
    {
     "data": {
      "text/plain": [
       "'Last\\nUpdated\\nand\\nPosted:\\nJanuary\\n10,2019CANADA\\nExempt\\nListTickerName\\nEQUITY\\nCDZCNISHARES\\nS&P/TSXCDNDVDARISCanada\\nCRQ\\nCNISHARES\\nCANADIAN\\nFUNDAMENTALFCCD\\nCNFIDELITY\\nCANADIAN\\nHIGH\\nDIVIDEND\\nINDEX\\nETFFXM\\nCNFIRST\\nASSETMORNINGSTARCANADA\\nVALUEINDEX\\nETFHEXCNHORIZONS\\nENHANCED\\nINCOME\\nEQUITYHIXCNHORIZONS\\nBETAPROS&P/TSX60HXHCNHORIZONS\\nCANADIAN\\nHIGH\\nDIVIDEND\\nINDEX\\nETFHXTCNHORIZON\\nS&P/TSX60INDEX\\nETFPDC\\nCNPOWERSHARES\\nCANADIAN\\nDIVIDEND\\nINDEX\\nETFVBALCNVANGUARD\\nBALANCED\\nETFPORTFOLIOVCE\\nCNVANGUARD\\nFTSECANADA\\nINDEX\\nVCN\\nCNVANGUARDFTSECANADA\\nALLCAP\\nINDEX\\nETFVCNS\\nCNVANGUARD\\nCONSERVATIVE\\nETFVGROCNVANGUARD\\nGROWTHETFPORTFOLIOWXM\\nCNFIRSTASSETMORNINGSTARCANADA\\nMOMENTUMINDEX\\nXCS\\nCNISHARES\\nS&P/TSXSMALLCAP\\nINDXDV\\nCNISHARES\\nDOW\\nJONESCANADA\\nSELXEICNISHARES\\nS&P/TSXEQUITYINCOM\\nXICCNISHARES\\nS&P/TSXCAPPED\\nCOMPO\\nXIUCNISHARES\\nS&P/TSX60INDEX\\nFUNXMD\\nCNISHARES\\nS&P/TSXCOMPLETION\\nIXTR\\nCNISHARES\\nDIVERSIFIEDMONTHLY\\nZCNCNBMO\\nS&P/TSXCAP\\nCOMP\\nINDETFZDVCNBMO\\nCANADIAN\\nDIVIDEND\\nETFZLBCNBMO\\nLOWVOLATILITYCANADIAN\\nZWCCNBMO\\nCANADIAN\\nHIGH\\nDIVIDEND\\nCOVERED\\nCALL\\nETFCHB\\nCNISHARES\\nUSHIGH\\nYIELDFIXED\\nINCOME\\nINDEX\\nETFCAD\\nHEDGED\\nInternational\\nCIE\\nCNISHARES\\nINTERNATIONALFUNDALCJP\\nCNISHARES\\nJAPANFUNDAMENTALSCLU\\nCNISHARES\\nUSFUNDAMENTALSIDX\\nCUDCNISHARES\\nS&PUSDVDGROWERSIThis\\nisthe\\nExempt\\nList\\nofETFs.Thelist\\nismaintained\\nbyCompliance.\\nIfyouhave\\nany\\nquestions\\nabout\\nthe\\nlist\\norsuggestions\\nonhowtoimprove\\nthe\\nlist\\nplease\\nsendthem\\ntoexempt_list@otpp.com.\\nThelist\\nwillbereviewed\\nand\\nupdated\\nperiodically.\\nYoucanalso\\ntrade\\nthe\\nsecurities\\noutlined\\ninthe\\nCode\\nofConduct\\ninAppendix\\n1.Appendix2ExemptList\\nAdditions:\\nhighlighted\\ninyellow\\nTicker\\nChange\\n:highlighted\\ninamber\\nRemovals:\\nCEW\\nCN(ISHARESEQUALWEIGHT\\nETF)COW\\nCN(ISHARESGLOBAL\\nAGRICULTURAL\\nINDEX\\nETF)CWWCN(ISHARESGLOBAL\\nWATER\\nINDEX\\nETF)IH2O\\nLN(ISHARESGLOBAL\\nWATER)\\nTH100\\nTB(THAIDEXSET100ETF)CGW\\nUS(INVESCO\\nS&PGLOBAL\\nWATER\\nINDEX\\nETF)FNCL\\nUS(FIDELITY\\nFINANCIALS\\nETF)FXI\\nUS(ISHARESCHINA\\nLARGECAP\\nETF)QQQCUS(GLOBALXNASDAQCHINA\\nTECHNOLOGY)\\nTANUS(INVESCO\\nSOLAR\\nETF)VFHUS(VANGUARDFINANCIALS\\nETF)VMINUS(REXVOLMAXX\\nSHORT\\nVIXFUTURE)VPUUS(VANGUARDUTILITIES\\nETF)1'"
      ]
     },
     "execution_count": 7,
     "metadata": {},
     "output_type": "execute_result"
    }
   ],
   "source": [
    "pageObj.extractText()"
   ]
  },
  {
   "cell_type": "code",
   "execution_count": null,
   "metadata": {},
   "outputs": [],
   "source": []
  }
 ],
 "metadata": {
  "kernelspec": {
   "display_name": "Python 3",
   "language": "python",
   "name": "python3"
  },
  "language_info": {
   "codemirror_mode": {
    "name": "ipython",
    "version": 3
   },
   "file_extension": ".py",
   "mimetype": "text/x-python",
   "name": "python",
   "nbconvert_exporter": "python",
   "pygments_lexer": "ipython3",
   "version": "3.7.1"
  }
 },
 "nbformat": 4,
 "nbformat_minor": 2
}
