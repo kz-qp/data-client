{
 "cells": [
  {
   "cell_type": "code",
   "execution_count": 2,
   "metadata": {},
   "outputs": [],
   "source": [
    "%load_ext autoreload\n",
    "%autoreload 2"
   ]
  },
  {
   "cell_type": "code",
   "execution_count": 3,
   "metadata": {},
   "outputs": [],
   "source": [
    "import pandas as pd\n",
    "import traceback\n",
    "import seaborn as sns\n",
    "import matplotlib.pyplot as plt\n",
    "import math\n",
    "import matplotlib.ticker as ticker\n",
    "from jupyterthemes import jtplot\n",
    "jtplot.style()\n",
    "\n",
    "from api.questrade import QTClient"
   ]
  },
  {
   "cell_type": "markdown",
   "metadata": {},
   "source": [
    "# Configure client"
   ]
  },
  {
   "cell_type": "code",
   "execution_count": 4,
   "metadata": {},
   "outputs": [],
   "source": [
    "REFRESH_TOKEN = \"WzdwNZfOzHxjvJvqUgA96CqCrJ0j1roy0\"\n",
    "client = QTClient(REFRESH_TOKEN)"
   ]
  },
  {
   "cell_type": "markdown",
   "metadata": {},
   "source": [
    "# Resolve tickers"
   ]
  },
  {
   "cell_type": "code",
   "execution_count": 5,
   "metadata": {},
   "outputs": [],
   "source": [
    "positions = pd.DataFrame(client.get_account_positions())\n",
    "watch_securities = pd.read_csv('/Users/kzabashta/Downloads/seclist.csv', \n",
    "                               names=[\"ticker\", \"description\"]).set_index(\"ticker\")\n",
    "symbols = dict(zip(positions[\"symbolId\"], positions[\"symbol\"]))\n",
    "\n",
    "watch_securities = pd.read_csv('/Users/kzabashta/Downloads/seclist.csv', \n",
    "                               names=[\"ticker\", \"description\"]).set_index(\"ticker\")\n",
    "additional_securities = list(watch_securities.index)\n",
    "\n",
    "for symbol in additional_securities:\n",
    "    matched_securities = client.search(symbol)\n",
    "    if len(matched_securities) > 1:\n",
    "        if not \".\" in matched_securities[0]['symbol'] and len(matched_securities[0]['symbol'].split()) == 1:\n",
    "            match_symbol = symbol.split()[0].strip()\n",
    "            match = list(filter(lambda x: x['symbol'] == \"%s.TO\" % match_symbol and x[\"isTradable\"] == True, \n",
    "                                matched_securities))\n",
    "            if len(match) == 1:\n",
    "                symbols[match[0]['symbolId']] = match[0]['symbol']\n",
    "            else:\n",
    "                symbols[matched_securities[0]['symbolId']] = matched_securities[0]['symbol']\n",
    "        else:\n",
    "            symbols[matched_securities[0]['symbolId']] = matched_securities[0]['symbol']"
   ]
  },
  {
   "cell_type": "markdown",
   "metadata": {},
   "source": [
    "# Get market data for all tickers"
   ]
  },
  {
   "cell_type": "code",
   "execution_count": 6,
   "metadata": {},
   "outputs": [
    {
     "name": "stdout",
     "output_type": "stream",
     "text": [
      "Could not get market data for VXX\n"
     ]
    },
    {
     "name": "stderr",
     "output_type": "stream",
     "text": [
      "Traceback (most recent call last):\n",
      "  File \"<ipython-input-6-97b7b513c2aa>\", line 7, in <module>\n",
      "    candles = pd.DataFrame(client.get_candles(symbolId, FROM_DATE, TO_DATE, 'OneDay')['candles'])\n",
      "KeyError: 'candles'\n"
     ]
    },
    {
     "name": "stdout",
     "output_type": "stream",
     "text": [
      "Could not get market data for VXZ\n"
     ]
    },
    {
     "name": "stderr",
     "output_type": "stream",
     "text": [
      "Traceback (most recent call last):\n",
      "  File \"<ipython-input-6-97b7b513c2aa>\", line 7, in <module>\n",
      "    candles = pd.DataFrame(client.get_candles(symbolId, FROM_DATE, TO_DATE, 'OneDay')['candles'])\n",
      "KeyError: 'candles'\n"
     ]
    },
    {
     "name": "stdout",
     "output_type": "stream",
     "text": [
      "Could not get market data for BUZ\n"
     ]
    },
    {
     "name": "stderr",
     "output_type": "stream",
     "text": [
      "Traceback (most recent call last):\n",
      "  File \"<ipython-input-6-97b7b513c2aa>\", line 7, in <module>\n",
      "    candles = pd.DataFrame(client.get_candles(symbolId, FROM_DATE, TO_DATE, 'OneDay')['candles'])\n",
      "KeyError: 'candles'\n"
     ]
    },
    {
     "name": "stdout",
     "output_type": "stream",
     "text": [
      "Could not get market data for CSJ.EU.IN\n"
     ]
    },
    {
     "name": "stderr",
     "output_type": "stream",
     "text": [
      "Traceback (most recent call last):\n",
      "  File \"<ipython-input-6-97b7b513c2aa>\", line 7, in <module>\n",
      "    candles = pd.DataFrame(client.get_candles(symbolId, FROM_DATE, TO_DATE, 'OneDay')['candles'])\n",
      "KeyError: 'candles'\n"
     ]
    },
    {
     "name": "stdout",
     "output_type": "stream",
     "text": [
      "Could not get market data for DSUM\n"
     ]
    },
    {
     "name": "stderr",
     "output_type": "stream",
     "text": [
      "Traceback (most recent call last):\n",
      "  File \"<ipython-input-6-97b7b513c2aa>\", line 7, in <module>\n",
      "    candles = pd.DataFrame(client.get_candles(symbolId, FROM_DATE, TO_DATE, 'OneDay')['candles'])\n",
      "KeyError: 'candles'\n"
     ]
    },
    {
     "name": "stdout",
     "output_type": "stream",
     "text": [
      "Could not get market data for ERIXD.IN\n"
     ]
    },
    {
     "name": "stderr",
     "output_type": "stream",
     "text": [
      "Traceback (most recent call last):\n",
      "  File \"<ipython-input-6-97b7b513c2aa>\", line 7, in <module>\n",
      "    candles = pd.DataFrame(client.get_candles(symbolId, FROM_DATE, TO_DATE, 'OneDay')['candles'])\n",
      "KeyError: 'candles'\n"
     ]
    },
    {
     "name": "stdout",
     "output_type": "stream",
     "text": [
      "Could not get market data for IBBACI.IN\n"
     ]
    },
    {
     "name": "stderr",
     "output_type": "stream",
     "text": [
      "Traceback (most recent call last):\n",
      "  File \"<ipython-input-6-97b7b513c2aa>\", line 7, in <module>\n",
      "    candles = pd.DataFrame(client.get_candles(symbolId, FROM_DATE, TO_DATE, 'OneDay')['candles'])\n",
      "KeyError: 'candles'\n"
     ]
    },
    {
     "name": "stdout",
     "output_type": "stream",
     "text": [
      "Could not get market data for SGLOF\n"
     ]
    },
    {
     "name": "stderr",
     "output_type": "stream",
     "text": [
      "Traceback (most recent call last):\n",
      "  File \"/Users/kzabashta/anaconda3/lib/python3.7/site-packages/pandas/core/indexes/base.py\", line 3078, in get_loc\n",
      "    return self._engine.get_loc(key)\n",
      "  File \"pandas/_libs/index.pyx\", line 140, in pandas._libs.index.IndexEngine.get_loc\n",
      "  File \"pandas/_libs/index.pyx\", line 162, in pandas._libs.index.IndexEngine.get_loc\n",
      "  File \"pandas/_libs/hashtable_class_helper.pxi\", line 1492, in pandas._libs.hashtable.PyObjectHashTable.get_item\n",
      "  File \"pandas/_libs/hashtable_class_helper.pxi\", line 1500, in pandas._libs.hashtable.PyObjectHashTable.get_item\n",
      "KeyError: 'end'\n",
      "\n",
      "During handling of the above exception, another exception occurred:\n",
      "\n",
      "Traceback (most recent call last):\n",
      "  File \"<ipython-input-6-97b7b513c2aa>\", line 8, in <module>\n",
      "    candles['end'] =  pd.to_datetime(candles['end'], format='%Y-%m-%d')\n",
      "  File \"/Users/kzabashta/anaconda3/lib/python3.7/site-packages/pandas/core/frame.py\", line 2688, in __getitem__\n",
      "    return self._getitem_column(key)\n",
      "  File \"/Users/kzabashta/anaconda3/lib/python3.7/site-packages/pandas/core/frame.py\", line 2695, in _getitem_column\n",
      "    return self._get_item_cache(key)\n",
      "  File \"/Users/kzabashta/anaconda3/lib/python3.7/site-packages/pandas/core/generic.py\", line 2489, in _get_item_cache\n",
      "    values = self._data.get(item)\n",
      "  File \"/Users/kzabashta/anaconda3/lib/python3.7/site-packages/pandas/core/internals.py\", line 4115, in get\n",
      "    loc = self.items.get_loc(item)\n",
      "  File \"/Users/kzabashta/anaconda3/lib/python3.7/site-packages/pandas/core/indexes/base.py\", line 3080, in get_loc\n",
      "    return self._engine.get_loc(self._maybe_cast_indexer(key))\n",
      "  File \"pandas/_libs/index.pyx\", line 140, in pandas._libs.index.IndexEngine.get_loc\n",
      "  File \"pandas/_libs/index.pyx\", line 162, in pandas._libs.index.IndexEngine.get_loc\n",
      "  File \"pandas/_libs/hashtable_class_helper.pxi\", line 1492, in pandas._libs.hashtable.PyObjectHashTable.get_item\n",
      "  File \"pandas/_libs/hashtable_class_helper.pxi\", line 1500, in pandas._libs.hashtable.PyObjectHashTable.get_item\n",
      "KeyError: 'end'\n"
     ]
    },
    {
     "name": "stdout",
     "output_type": "stream",
     "text": [
      "Could not get market data for CRUD\n"
     ]
    },
    {
     "name": "stderr",
     "output_type": "stream",
     "text": [
      "Traceback (most recent call last):\n",
      "  File \"<ipython-input-6-97b7b513c2aa>\", line 7, in <module>\n",
      "    candles = pd.DataFrame(client.get_candles(symbolId, FROM_DATE, TO_DATE, 'OneDay')['candles'])\n",
      "KeyError: 'candles'\n"
     ]
    }
   ],
   "source": [
    "FROM_DATE = '2016-10-01T00:00:00-05:00'\n",
    "TO_DATE = '2019-10-20T23:59:59-05:00'\n",
    "\n",
    "historicals = pd.DataFrame()\n",
    "for symbolId, symbol in symbols.items():\n",
    "    try:\n",
    "        candles = pd.DataFrame(client.get_candles(symbolId, FROM_DATE, TO_DATE, 'OneDay')['candles'])\n",
    "        candles['end'] =  pd.to_datetime(candles['end'], format='%Y-%m-%d')\n",
    "        candles['symbol'] = symbol\n",
    "        candles['symbolId'] = symbolId\n",
    "        historicals = historicals.append(candles)\n",
    "    except:\n",
    "        print (\"Could not get market data for %s\" % symbol)\n",
    "        traceback.print_exc()\n",
    "historicals = historicals.set_index([\"symbol\", \"end\"])"
   ]
  },
  {
   "cell_type": "markdown",
   "metadata": {},
   "source": [
    "# Save the data"
   ]
  },
  {
   "cell_type": "code",
   "execution_count": 10,
   "metadata": {},
   "outputs": [
    {
     "ename": "NameError",
     "evalue": "name 's' is not defined",
     "output_type": "error",
     "traceback": [
      "\u001b[0;31m---------------------------------------------------------------------------\u001b[0m",
      "\u001b[0;31mNameError\u001b[0m                                 Traceback (most recent call last)",
      "\u001b[0;32m<ipython-input-10-84e0bf961185>\u001b[0m in \u001b[0;36m<module>\u001b[0;34m\u001b[0m\n\u001b[1;32m      1\u001b[0m \u001b[0mhistoricals\u001b[0m\u001b[0;34m.\u001b[0m\u001b[0mto_csv\u001b[0m\u001b[0;34m(\u001b[0m\u001b[0;34m\"historicals.csv\"\u001b[0m\u001b[0;34m)\u001b[0m\u001b[0;34m\u001b[0m\u001b[0;34m\u001b[0m\u001b[0m\n\u001b[0;32m----> 2\u001b[0;31m \u001b[0mso\u001b[0m \u001b[0;34m=\u001b[0m \u001b[0ms\u001b[0m\u001b[0;34m.\u001b[0m\u001b[0msort_values\u001b[0m\u001b[0;34m(\u001b[0m\u001b[0mkind\u001b[0m\u001b[0;34m=\u001b[0m\u001b[0;34m\"quicksort\"\u001b[0m\u001b[0;34m)\u001b[0m\u001b[0;34m\u001b[0m\u001b[0;34m\u001b[0m\u001b[0m\n\u001b[0m",
      "\u001b[0;31mNameError\u001b[0m: name 's' is not defined"
     ]
    }
   ],
   "source": [
    "historicals.to_csv(\"historicals.csv\")\n",
    "so = s.sort_values(kind=\"quicksort\")"
   ]
  },
  {
   "cell_type": "code",
   "execution_count": null,
   "metadata": {},
   "outputs": [],
   "source": []
  }
 ],
 "metadata": {
  "kernelspec": {
   "display_name": "Python 3",
   "language": "python",
   "name": "python3"
  },
  "language_info": {
   "codemirror_mode": {
    "name": "ipython",
    "version": 3
   },
   "file_extension": ".py",
   "mimetype": "text/x-python",
   "name": "python",
   "nbconvert_exporter": "python",
   "pygments_lexer": "ipython3",
   "version": "3.7.1"
  }
 },
 "nbformat": 4,
 "nbformat_minor": 2
}
